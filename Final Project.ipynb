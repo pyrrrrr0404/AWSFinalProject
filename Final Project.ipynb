{
 "cells": [
  {
   "cell_type": "markdown",
   "id": "cf5044d9",
   "metadata": {},
   "source": [
    "# Capstone Project: Stock Returns Predictor"
   ]
  },
  {
   "cell_type": "code",
   "execution_count": 3,
   "id": "997fccff",
   "metadata": {},
   "outputs": [],
   "source": [
    "#!pip install -U pip\n",
    "#!pip install -U setuptools wheel\n",
    "#!pip install -U \"mxnet<2.0.0\""
   ]
  },
  {
   "cell_type": "code",
   "execution_count": 6,
   "id": "5966c029",
   "metadata": {},
   "outputs": [
    {
     "name": "stdout",
     "output_type": "stream",
     "text": [
      "Archive:  the-winton-stock-market-challenge.zip\n",
      "  inflating: sample_submission_2.csv.zip  \n",
      "  inflating: test_2.csv.zip          \n",
      "  inflating: train.csv.zip           \n"
     ]
    }
   ],
   "source": [
    "!unzip -o the-winton-stock-market-challenge.zip"
   ]
  },
  {
   "cell_type": "code",
   "execution_count": 7,
   "id": "720000ec",
   "metadata": {
    "scrolled": true
   },
   "outputs": [
    {
     "name": "stdout",
     "output_type": "stream",
     "text": [
      "Archive:  train.csv.zip\n",
      "  inflating: train.csv               \n",
      "   creating: __MACOSX/\n",
      "  inflating: __MACOSX/._train.csv    \n",
      "Archive:  test_2.csv.zip\n",
      "  inflating: test_2.csv              \n",
      "  inflating: __MACOSX/._test_2.csv   \n",
      "Archive:  sample_submission_2.csv.zip\n",
      "  inflating: sample_submission_2.csv  \n",
      "  inflating: __MACOSX/._sample_submission_2.csv  \n"
     ]
    }
   ],
   "source": [
    "#!unzip -o train.csv.zip\n",
    "#!unzip test_2.csv.zip\n",
    "#!unzip sample_submission_2.csv.zip"
   ]
  },
  {
   "cell_type": "code",
   "execution_count": 3,
   "id": "caeea96e",
   "metadata": {},
   "outputs": [],
   "source": [
    "#!pip install autogluon --no-cache-dir"
   ]
  },
  {
   "cell_type": "code",
   "execution_count": 4,
   "id": "7f2ab442",
   "metadata": {},
   "outputs": [],
   "source": [
    "import numpy as np\n",
    "import pandas as pd\n",
    "import matplotlib.pyplot as plt\n",
    "import seaborn as sns\n",
    "from autogluon.tabular import TabularPredictor"
   ]
  },
  {
   "cell_type": "code",
   "execution_count": 5,
   "id": "b11efa15",
   "metadata": {},
   "outputs": [
    {
     "data": {
      "text/plain": [
       "Index(['Id', 'Feature_1', 'Feature_2', 'Feature_3', 'Feature_4', 'Feature_5',\n",
       "       'Feature_6', 'Feature_7', 'Feature_8', 'Feature_9',\n",
       "       ...\n",
       "       'Ret_175', 'Ret_176', 'Ret_177', 'Ret_178', 'Ret_179', 'Ret_180',\n",
       "       'Ret_PlusOne', 'Ret_PlusTwo', 'Weight_Intraday', 'Weight_Daily'],\n",
       "      dtype='object', length=211)"
      ]
     },
     "execution_count": 5,
     "metadata": {},
     "output_type": "execute_result"
    }
   ],
   "source": [
    "training = pd.read_csv(\"train.csv\")\n",
    "training.columns"
   ]
  },
  {
   "cell_type": "code",
   "execution_count": 6,
   "id": "0835b2f3",
   "metadata": {},
   "outputs": [
    {
     "data": {
      "text/html": [
       "<div>\n",
       "<style scoped>\n",
       "    .dataframe tbody tr th:only-of-type {\n",
       "        vertical-align: middle;\n",
       "    }\n",
       "\n",
       "    .dataframe tbody tr th {\n",
       "        vertical-align: top;\n",
       "    }\n",
       "\n",
       "    .dataframe thead th {\n",
       "        text-align: right;\n",
       "    }\n",
       "</style>\n",
       "<table border=\"1\" class=\"dataframe\">\n",
       "  <thead>\n",
       "    <tr style=\"text-align: right;\">\n",
       "      <th></th>\n",
       "      <th>Id</th>\n",
       "      <th>Feature_1</th>\n",
       "      <th>Feature_2</th>\n",
       "      <th>Feature_3</th>\n",
       "      <th>Feature_4</th>\n",
       "      <th>Feature_5</th>\n",
       "      <th>Feature_6</th>\n",
       "      <th>Feature_7</th>\n",
       "      <th>Feature_8</th>\n",
       "      <th>Feature_9</th>\n",
       "      <th>...</th>\n",
       "      <th>Ret_175</th>\n",
       "      <th>Ret_176</th>\n",
       "      <th>Ret_177</th>\n",
       "      <th>Ret_178</th>\n",
       "      <th>Ret_179</th>\n",
       "      <th>Ret_180</th>\n",
       "      <th>Ret_PlusOne</th>\n",
       "      <th>Ret_PlusTwo</th>\n",
       "      <th>Weight_Intraday</th>\n",
       "      <th>Weight_Daily</th>\n",
       "    </tr>\n",
       "  </thead>\n",
       "  <tbody>\n",
       "    <tr>\n",
       "      <th>0</th>\n",
       "      <td>1</td>\n",
       "      <td>NaN</td>\n",
       "      <td>NaN</td>\n",
       "      <td>NaN</td>\n",
       "      <td>NaN</td>\n",
       "      <td>8.0</td>\n",
       "      <td>NaN</td>\n",
       "      <td>75751</td>\n",
       "      <td>0.2254</td>\n",
       "      <td>11.0</td>\n",
       "      <td>...</td>\n",
       "      <td>-0.002688</td>\n",
       "      <td>0.002246</td>\n",
       "      <td>-0.000838</td>\n",
       "      <td>-6.953224e-04</td>\n",
       "      <td>0.000003</td>\n",
       "      <td>-0.001974</td>\n",
       "      <td>-0.019512</td>\n",
       "      <td>0.028846</td>\n",
       "      <td>1.251508e+06</td>\n",
       "      <td>1.564385e+06</td>\n",
       "    </tr>\n",
       "    <tr>\n",
       "      <th>1</th>\n",
       "      <td>2</td>\n",
       "      <td>NaN</td>\n",
       "      <td>NaN</td>\n",
       "      <td>NaN</td>\n",
       "      <td>NaN</td>\n",
       "      <td>3.0</td>\n",
       "      <td>0.388896</td>\n",
       "      <td>17369</td>\n",
       "      <td>0.0166</td>\n",
       "      <td>13.0</td>\n",
       "      <td>...</td>\n",
       "      <td>-0.000129</td>\n",
       "      <td>0.000123</td>\n",
       "      <td>0.000248</td>\n",
       "      <td>3.315418e-07</td>\n",
       "      <td>0.000003</td>\n",
       "      <td>0.000027</td>\n",
       "      <td>-0.002939</td>\n",
       "      <td>-0.010253</td>\n",
       "      <td>1.733950e+06</td>\n",
       "      <td>2.167438e+06</td>\n",
       "    </tr>\n",
       "    <tr>\n",
       "      <th>2</th>\n",
       "      <td>3</td>\n",
       "      <td>NaN</td>\n",
       "      <td>-0.696727</td>\n",
       "      <td>0.739591</td>\n",
       "      <td>-0.167928</td>\n",
       "      <td>9.0</td>\n",
       "      <td>0.471947</td>\n",
       "      <td>8277</td>\n",
       "      <td>0.3650</td>\n",
       "      <td>9.0</td>\n",
       "      <td>...</td>\n",
       "      <td>-0.000524</td>\n",
       "      <td>-0.000394</td>\n",
       "      <td>0.000116</td>\n",
       "      <td>5.322557e-04</td>\n",
       "      <td>0.000274</td>\n",
       "      <td>0.000784</td>\n",
       "      <td>-0.024791</td>\n",
       "      <td>0.015711</td>\n",
       "      <td>1.529197e+06</td>\n",
       "      <td>1.911497e+06</td>\n",
       "    </tr>\n",
       "    <tr>\n",
       "      <th>3</th>\n",
       "      <td>4</td>\n",
       "      <td>NaN</td>\n",
       "      <td>-0.694350</td>\n",
       "      <td>1.568248</td>\n",
       "      <td>0.479073</td>\n",
       "      <td>5.0</td>\n",
       "      <td>0.120653</td>\n",
       "      <td>22508</td>\n",
       "      <td>0.2654</td>\n",
       "      <td>13.0</td>\n",
       "      <td>...</td>\n",
       "      <td>0.000346</td>\n",
       "      <td>-0.000090</td>\n",
       "      <td>0.000288</td>\n",
       "      <td>-1.281102e-04</td>\n",
       "      <td>0.000074</td>\n",
       "      <td>0.000341</td>\n",
       "      <td>-0.005680</td>\n",
       "      <td>-0.002190</td>\n",
       "      <td>1.711569e+06</td>\n",
       "      <td>2.139462e+06</td>\n",
       "    </tr>\n",
       "    <tr>\n",
       "      <th>4</th>\n",
       "      <td>5</td>\n",
       "      <td>6.0</td>\n",
       "      <td>-1.736489</td>\n",
       "      <td>2.765531</td>\n",
       "      <td>1.245280</td>\n",
       "      <td>7.0</td>\n",
       "      <td>4.866985</td>\n",
       "      <td>22423</td>\n",
       "      <td>0.2138</td>\n",
       "      <td>13.0</td>\n",
       "      <td>...</td>\n",
       "      <td>-0.001235</td>\n",
       "      <td>0.000027</td>\n",
       "      <td>0.002449</td>\n",
       "      <td>8.619882e-06</td>\n",
       "      <td>0.001209</td>\n",
       "      <td>-0.000004</td>\n",
       "      <td>0.036104</td>\n",
       "      <td>-0.026552</td>\n",
       "      <td>1.267270e+06</td>\n",
       "      <td>1.584088e+06</td>\n",
       "    </tr>\n",
       "  </tbody>\n",
       "</table>\n",
       "<p>5 rows × 211 columns</p>\n",
       "</div>"
      ],
      "text/plain": [
       "   Id  Feature_1  Feature_2  Feature_3  Feature_4  Feature_5  Feature_6  \\\n",
       "0   1        NaN        NaN        NaN        NaN        8.0        NaN   \n",
       "1   2        NaN        NaN        NaN        NaN        3.0   0.388896   \n",
       "2   3        NaN  -0.696727   0.739591  -0.167928        9.0   0.471947   \n",
       "3   4        NaN  -0.694350   1.568248   0.479073        5.0   0.120653   \n",
       "4   5        6.0  -1.736489   2.765531   1.245280        7.0   4.866985   \n",
       "\n",
       "   Feature_7  Feature_8  Feature_9  ...   Ret_175   Ret_176   Ret_177  \\\n",
       "0      75751     0.2254       11.0  ... -0.002688  0.002246 -0.000838   \n",
       "1      17369     0.0166       13.0  ... -0.000129  0.000123  0.000248   \n",
       "2       8277     0.3650        9.0  ... -0.000524 -0.000394  0.000116   \n",
       "3      22508     0.2654       13.0  ...  0.000346 -0.000090  0.000288   \n",
       "4      22423     0.2138       13.0  ... -0.001235  0.000027  0.002449   \n",
       "\n",
       "        Ret_178   Ret_179   Ret_180  Ret_PlusOne  Ret_PlusTwo  \\\n",
       "0 -6.953224e-04  0.000003 -0.001974    -0.019512     0.028846   \n",
       "1  3.315418e-07  0.000003  0.000027    -0.002939    -0.010253   \n",
       "2  5.322557e-04  0.000274  0.000784    -0.024791     0.015711   \n",
       "3 -1.281102e-04  0.000074  0.000341    -0.005680    -0.002190   \n",
       "4  8.619882e-06  0.001209 -0.000004     0.036104    -0.026552   \n",
       "\n",
       "   Weight_Intraday  Weight_Daily  \n",
       "0     1.251508e+06  1.564385e+06  \n",
       "1     1.733950e+06  2.167438e+06  \n",
       "2     1.529197e+06  1.911497e+06  \n",
       "3     1.711569e+06  2.139462e+06  \n",
       "4     1.267270e+06  1.584088e+06  \n",
       "\n",
       "[5 rows x 211 columns]"
      ]
     },
     "execution_count": 6,
     "metadata": {},
     "output_type": "execute_result"
    }
   ],
   "source": [
    "training.head()"
   ]
  },
  {
   "cell_type": "code",
   "execution_count": 7,
   "id": "a099fc92",
   "metadata": {
    "scrolled": true
   },
   "outputs": [
    {
     "data": {
      "text/html": [
       "<div>\n",
       "<style scoped>\n",
       "    .dataframe tbody tr th:only-of-type {\n",
       "        vertical-align: middle;\n",
       "    }\n",
       "\n",
       "    .dataframe tbody tr th {\n",
       "        vertical-align: top;\n",
       "    }\n",
       "\n",
       "    .dataframe thead th {\n",
       "        text-align: right;\n",
       "    }\n",
       "</style>\n",
       "<table border=\"1\" class=\"dataframe\">\n",
       "  <thead>\n",
       "    <tr style=\"text-align: right;\">\n",
       "      <th></th>\n",
       "      <th>Id</th>\n",
       "      <th>Feature_1</th>\n",
       "      <th>Feature_2</th>\n",
       "      <th>Feature_3</th>\n",
       "      <th>Feature_4</th>\n",
       "      <th>Feature_5</th>\n",
       "      <th>Feature_6</th>\n",
       "      <th>Feature_7</th>\n",
       "      <th>Feature_8</th>\n",
       "      <th>Feature_9</th>\n",
       "      <th>...</th>\n",
       "      <th>Ret_111</th>\n",
       "      <th>Ret_112</th>\n",
       "      <th>Ret_113</th>\n",
       "      <th>Ret_114</th>\n",
       "      <th>Ret_115</th>\n",
       "      <th>Ret_116</th>\n",
       "      <th>Ret_117</th>\n",
       "      <th>Ret_118</th>\n",
       "      <th>Ret_119</th>\n",
       "      <th>Ret_120</th>\n",
       "    </tr>\n",
       "  </thead>\n",
       "  <tbody>\n",
       "    <tr>\n",
       "      <th>0</th>\n",
       "      <td>1</td>\n",
       "      <td>1.0</td>\n",
       "      <td>1.412783</td>\n",
       "      <td>-0.056284</td>\n",
       "      <td>NaN</td>\n",
       "      <td>10.0</td>\n",
       "      <td>0.413226</td>\n",
       "      <td>18871</td>\n",
       "      <td>0.2138</td>\n",
       "      <td>11.0</td>\n",
       "      <td>...</td>\n",
       "      <td>0.000370</td>\n",
       "      <td>-0.000762</td>\n",
       "      <td>NaN</td>\n",
       "      <td>0.000366</td>\n",
       "      <td>-0.002444</td>\n",
       "      <td>-0.001301</td>\n",
       "      <td>-0.000917</td>\n",
       "      <td>0.000762</td>\n",
       "      <td>-0.000556</td>\n",
       "      <td>0.000759</td>\n",
       "    </tr>\n",
       "    <tr>\n",
       "      <th>1</th>\n",
       "      <td>2</td>\n",
       "      <td>NaN</td>\n",
       "      <td>NaN</td>\n",
       "      <td>0.907973</td>\n",
       "      <td>1.002425</td>\n",
       "      <td>7.0</td>\n",
       "      <td>-0.257825</td>\n",
       "      <td>5852</td>\n",
       "      <td>0.2138</td>\n",
       "      <td>13.0</td>\n",
       "      <td>...</td>\n",
       "      <td>0.000457</td>\n",
       "      <td>0.000003</td>\n",
       "      <td>-0.000007</td>\n",
       "      <td>-0.000003</td>\n",
       "      <td>-0.000012</td>\n",
       "      <td>-0.000463</td>\n",
       "      <td>-0.000003</td>\n",
       "      <td>-0.000002</td>\n",
       "      <td>0.000468</td>\n",
       "      <td>-0.000012</td>\n",
       "    </tr>\n",
       "    <tr>\n",
       "      <th>2</th>\n",
       "      <td>3</td>\n",
       "      <td>NaN</td>\n",
       "      <td>-0.607583</td>\n",
       "      <td>1.076668</td>\n",
       "      <td>0.517865</td>\n",
       "      <td>5.0</td>\n",
       "      <td>0.947340</td>\n",
       "      <td>76935</td>\n",
       "      <td>0.0105</td>\n",
       "      <td>10.0</td>\n",
       "      <td>...</td>\n",
       "      <td>0.000003</td>\n",
       "      <td>0.000157</td>\n",
       "      <td>-0.000181</td>\n",
       "      <td>0.000003</td>\n",
       "      <td>NaN</td>\n",
       "      <td>0.000164</td>\n",
       "      <td>0.000353</td>\n",
       "      <td>0.000704</td>\n",
       "      <td>-0.000168</td>\n",
       "      <td>-0.000006</td>\n",
       "    </tr>\n",
       "    <tr>\n",
       "      <th>3</th>\n",
       "      <td>4</td>\n",
       "      <td>NaN</td>\n",
       "      <td>2.230240</td>\n",
       "      <td>0.223222</td>\n",
       "      <td>NaN</td>\n",
       "      <td>1.0</td>\n",
       "      <td>NaN</td>\n",
       "      <td>84573</td>\n",
       "      <td>0.3318</td>\n",
       "      <td>13.0</td>\n",
       "      <td>...</td>\n",
       "      <td>0.000010</td>\n",
       "      <td>-0.000792</td>\n",
       "      <td>-0.000479</td>\n",
       "      <td>0.000017</td>\n",
       "      <td>0.000170</td>\n",
       "      <td>-0.001079</td>\n",
       "      <td>0.000320</td>\n",
       "      <td>0.000006</td>\n",
       "      <td>0.001392</td>\n",
       "      <td>-0.001850</td>\n",
       "    </tr>\n",
       "    <tr>\n",
       "      <th>4</th>\n",
       "      <td>5</td>\n",
       "      <td>NaN</td>\n",
       "      <td>0.360399</td>\n",
       "      <td>0.597896</td>\n",
       "      <td>-0.145497</td>\n",
       "      <td>10.0</td>\n",
       "      <td>0.275744</td>\n",
       "      <td>89615</td>\n",
       "      <td>0.0099</td>\n",
       "      <td>8.0</td>\n",
       "      <td>...</td>\n",
       "      <td>0.000447</td>\n",
       "      <td>0.000489</td>\n",
       "      <td>-0.000233</td>\n",
       "      <td>-0.000495</td>\n",
       "      <td>0.000057</td>\n",
       "      <td>-0.000050</td>\n",
       "      <td>-0.000011</td>\n",
       "      <td>-0.000377</td>\n",
       "      <td>0.000227</td>\n",
       "      <td>-0.000114</td>\n",
       "    </tr>\n",
       "  </tbody>\n",
       "</table>\n",
       "<p>5 rows × 147 columns</p>\n",
       "</div>"
      ],
      "text/plain": [
       "   Id  Feature_1  Feature_2  Feature_3  Feature_4  Feature_5  Feature_6  \\\n",
       "0   1        1.0   1.412783  -0.056284        NaN       10.0   0.413226   \n",
       "1   2        NaN        NaN   0.907973   1.002425        7.0  -0.257825   \n",
       "2   3        NaN  -0.607583   1.076668   0.517865        5.0   0.947340   \n",
       "3   4        NaN   2.230240   0.223222        NaN        1.0        NaN   \n",
       "4   5        NaN   0.360399   0.597896  -0.145497       10.0   0.275744   \n",
       "\n",
       "   Feature_7  Feature_8  Feature_9  ...   Ret_111   Ret_112   Ret_113  \\\n",
       "0      18871     0.2138       11.0  ...  0.000370 -0.000762       NaN   \n",
       "1       5852     0.2138       13.0  ...  0.000457  0.000003 -0.000007   \n",
       "2      76935     0.0105       10.0  ...  0.000003  0.000157 -0.000181   \n",
       "3      84573     0.3318       13.0  ...  0.000010 -0.000792 -0.000479   \n",
       "4      89615     0.0099        8.0  ...  0.000447  0.000489 -0.000233   \n",
       "\n",
       "    Ret_114   Ret_115   Ret_116   Ret_117   Ret_118   Ret_119   Ret_120  \n",
       "0  0.000366 -0.002444 -0.001301 -0.000917  0.000762 -0.000556  0.000759  \n",
       "1 -0.000003 -0.000012 -0.000463 -0.000003 -0.000002  0.000468 -0.000012  \n",
       "2  0.000003       NaN  0.000164  0.000353  0.000704 -0.000168 -0.000006  \n",
       "3  0.000017  0.000170 -0.001079  0.000320  0.000006  0.001392 -0.001850  \n",
       "4 -0.000495  0.000057 -0.000050 -0.000011 -0.000377  0.000227 -0.000114  \n",
       "\n",
       "[5 rows x 147 columns]"
      ]
     },
     "execution_count": 7,
     "metadata": {},
     "output_type": "execute_result"
    }
   ],
   "source": [
    "test = pd.read_csv(\"test_2.csv\")\n",
    "test.head()"
   ]
  },
  {
   "cell_type": "code",
   "execution_count": 8,
   "id": "fc175e7e",
   "metadata": {},
   "outputs": [
    {
     "data": {
      "text/plain": [
       "Feature_1       0.167175\n",
       "Feature_10      0.513225\n",
       "Feature_2       0.771350\n",
       "Feature_20      0.804350\n",
       "Feature_4       0.806975\n",
       "                  ...   \n",
       "Ret_135         1.000000\n",
       "Ret_134         1.000000\n",
       "Ret_133         1.000000\n",
       "Ret_139         1.000000\n",
       "Weight_Daily    1.000000\n",
       "Length: 211, dtype: float64"
      ]
     },
     "execution_count": 8,
     "metadata": {},
     "output_type": "execute_result"
    }
   ],
   "source": [
    "notNanPercentage = np.sum(~training.isna())/len(training)\n",
    "notNanPercentage.sort_values()"
   ]
  },
  {
   "cell_type": "markdown",
   "id": "936318c7",
   "metadata": {},
   "source": [
    "We could see only 16% data of Feature_1 column and <50% data of of Feature_10 column contain values, so we decide to drop those two columns when we build the model."
   ]
  },
  {
   "cell_type": "code",
   "execution_count": 9,
   "id": "a4a2a395",
   "metadata": {},
   "outputs": [
    {
     "data": {
      "image/png": "[encoded data removed]",
      "text/plain": [
       "<Figure size 1296x288 with 4 Axes>"
      ]
     },
     "metadata": {
      "needs_background": "light"
     },
     "output_type": "display_data"
    }
   ],
   "source": [
    "plt.figure(figsize=(18,4))\n",
    "plt.subplot(1,4,1)\n",
    "plt.hist(training.Ret_MinusTwo, bins=100)\n",
    "plt.title(\"Ret_MinusTwo\")\n",
    "plt.subplot(1,4,2)\n",
    "plt.hist(training.Ret_MinusOne, bins=100)\n",
    "plt.title(\"Ret_MinusOne\")\n",
    "plt.subplot(1,4,3)\n",
    "plt.hist(training.Ret_PlusOne, bins=100) # target variable\n",
    "plt.title(\"Ret_PlusOne\")\n",
    "plt.subplot(1,4,4)\n",
    "plt.hist(training.Ret_PlusTwo, bins=100) # target variable\n",
    "plt.title(\"Ret_PlusTwo\")\n",
    "plt.savefig(\"dis.png\")\n",
    "plt.show()"
   ]
  },
  {
   "cell_type": "markdown",
   "id": "99df0e20",
   "metadata": {},
   "source": [
    "Since we found both features (Ret_MinusTwo, Ret_MinusOne) and target variables are approximately normal, we could assume they are multi-normal, and the linear regression assumption-multinormal distribution-is satisfied."
   ]
  },
  {
   "cell_type": "code",
   "execution_count": 11,
   "id": "75235aa3",
   "metadata": {},
   "outputs": [],
   "source": [
    "train = training.sample(frac=0.9,random_state=42)\n",
    "validation = training.drop(train.index)"
   ]
  },
  {
   "cell_type": "code",
   "execution_count": 12,
   "id": "668e6aca",
   "metadata": {},
   "outputs": [
    {
     "data": {
      "text/plain": [
       "36000"
      ]
     },
     "execution_count": 12,
     "metadata": {},
     "output_type": "execute_result"
    }
   ],
   "source": [
    "len(train)"
   ]
  },
  {
   "cell_type": "code",
   "execution_count": 13,
   "id": "81e8c551",
   "metadata": {},
   "outputs": [],
   "source": [
    "train = train.fillna(method=\"bfill\").fillna(method=\"ffill\")\n",
    "validation = validation.fillna(method=\"bfill\").fillna(method=\"ffill\")"
   ]
  },
  {
   "cell_type": "code",
   "execution_count": 14,
   "id": "66758969",
   "metadata": {},
   "outputs": [],
   "source": [
    "feature = [ 'Ret_MinusTwo','Ret_MinusOne']\n",
    "\n",
    "feature += ['Feature_{}'.format(i) for i in range(1, 26)]\n",
    "feature.remove('Feature_1')\n",
    "feature.remove('Feature_10')\n",
    "\n",
    "#feature += ['Ret_{}'.format(i) for i in range(2, 121)]"
   ]
  },
  {
   "cell_type": "code",
   "execution_count": 15,
   "id": "5ea5d905",
   "metadata": {},
   "outputs": [],
   "source": [
    "#Prepare features for modeling daily returns\n",
    "Ret_PlusOneFeature = feature + ['Ret_PlusOne']\n",
    "Ret_PlusTwoFeature = feature + ['Ret_PlusTwo'] "
   ]
  },
  {
   "cell_type": "code",
   "execution_count": 16,
   "id": "1e2d6494",
   "metadata": {
    "scrolled": true
   },
   "outputs": [
    {
     "data": {
      "text/html": [
       "<div>\n",
       "<style scoped>\n",
       "    .dataframe tbody tr th:only-of-type {\n",
       "        vertical-align: middle;\n",
       "    }\n",
       "\n",
       "    .dataframe tbody tr th {\n",
       "        vertical-align: top;\n",
       "    }\n",
       "\n",
       "    .dataframe thead th {\n",
       "        text-align: right;\n",
       "    }\n",
       "</style>\n",
       "<table border=\"1\" class=\"dataframe\">\n",
       "  <thead>\n",
       "    <tr style=\"text-align: right;\">\n",
       "      <th></th>\n",
       "      <th>Ret_MinusTwo</th>\n",
       "      <th>Ret_MinusOne</th>\n",
       "      <th>Feature_2</th>\n",
       "      <th>Feature_3</th>\n",
       "      <th>Feature_4</th>\n",
       "      <th>Feature_5</th>\n",
       "      <th>Feature_6</th>\n",
       "      <th>Feature_7</th>\n",
       "      <th>Feature_8</th>\n",
       "      <th>Feature_9</th>\n",
       "      <th>...</th>\n",
       "      <th>Feature_17</th>\n",
       "      <th>Feature_18</th>\n",
       "      <th>Feature_19</th>\n",
       "      <th>Feature_20</th>\n",
       "      <th>Feature_21</th>\n",
       "      <th>Feature_22</th>\n",
       "      <th>Feature_23</th>\n",
       "      <th>Feature_24</th>\n",
       "      <th>Feature_25</th>\n",
       "      <th>Ret_PlusOne</th>\n",
       "    </tr>\n",
       "  </thead>\n",
       "  <tbody>\n",
       "    <tr>\n",
       "      <th>32823</th>\n",
       "      <td>-0.013260</td>\n",
       "      <td>0.000590</td>\n",
       "      <td>0.479581</td>\n",
       "      <td>0.199240</td>\n",
       "      <td>-0.788162</td>\n",
       "      <td>5.0</td>\n",
       "      <td>-0.758338</td>\n",
       "      <td>86137</td>\n",
       "      <td>0.3650</td>\n",
       "      <td>9.0</td>\n",
       "      <td>...</td>\n",
       "      <td>0.128854</td>\n",
       "      <td>-0.319879</td>\n",
       "      <td>-0.961432</td>\n",
       "      <td>3.0</td>\n",
       "      <td>-0.728740</td>\n",
       "      <td>-0.381317</td>\n",
       "      <td>0.304771</td>\n",
       "      <td>-0.328039</td>\n",
       "      <td>-0.305417</td>\n",
       "      <td>0.011966</td>\n",
       "    </tr>\n",
       "    <tr>\n",
       "      <th>16298</th>\n",
       "      <td>0.015272</td>\n",
       "      <td>-0.087335</td>\n",
       "      <td>0.261451</td>\n",
       "      <td>-0.128693</td>\n",
       "      <td>-0.048090</td>\n",
       "      <td>7.0</td>\n",
       "      <td>-0.145155</td>\n",
       "      <td>51411</td>\n",
       "      <td>0.2654</td>\n",
       "      <td>11.0</td>\n",
       "      <td>...</td>\n",
       "      <td>0.158995</td>\n",
       "      <td>-0.444783</td>\n",
       "      <td>-0.393301</td>\n",
       "      <td>2.0</td>\n",
       "      <td>-0.660029</td>\n",
       "      <td>-0.118927</td>\n",
       "      <td>-0.164613</td>\n",
       "      <td>-0.032897</td>\n",
       "      <td>-0.175894</td>\n",
       "      <td>-0.004402</td>\n",
       "    </tr>\n",
       "    <tr>\n",
       "      <th>28505</th>\n",
       "      <td>-0.004651</td>\n",
       "      <td>-0.007407</td>\n",
       "      <td>0.132693</td>\n",
       "      <td>0.011800</td>\n",
       "      <td>0.025669</td>\n",
       "      <td>8.0</td>\n",
       "      <td>-0.145155</td>\n",
       "      <td>92235</td>\n",
       "      <td>0.2109</td>\n",
       "      <td>14.0</td>\n",
       "      <td>...</td>\n",
       "      <td>-0.774073</td>\n",
       "      <td>0.699686</td>\n",
       "      <td>-1.286713</td>\n",
       "      <td>7.0</td>\n",
       "      <td>-0.286466</td>\n",
       "      <td>-0.206454</td>\n",
       "      <td>0.957931</td>\n",
       "      <td>-2.327268</td>\n",
       "      <td>-0.679526</td>\n",
       "      <td>-0.001938</td>\n",
       "    </tr>\n",
       "    <tr>\n",
       "      <th>6689</th>\n",
       "      <td>-0.043868</td>\n",
       "      <td>-0.015366</td>\n",
       "      <td>0.707221</td>\n",
       "      <td>-0.799214</td>\n",
       "      <td>-0.878790</td>\n",
       "      <td>5.0</td>\n",
       "      <td>-0.513552</td>\n",
       "      <td>8912</td>\n",
       "      <td>0.0102</td>\n",
       "      <td>5.0</td>\n",
       "      <td>...</td>\n",
       "      <td>0.776121</td>\n",
       "      <td>-0.602150</td>\n",
       "      <td>-0.866299</td>\n",
       "      <td>2.0</td>\n",
       "      <td>-1.290809</td>\n",
       "      <td>0.113874</td>\n",
       "      <td>-0.151860</td>\n",
       "      <td>0.686725</td>\n",
       "      <td>-0.052387</td>\n",
       "      <td>0.017789</td>\n",
       "    </tr>\n",
       "    <tr>\n",
       "      <th>26893</th>\n",
       "      <td>-0.007558</td>\n",
       "      <td>-0.017871</td>\n",
       "      <td>1.471640</td>\n",
       "      <td>1.834098</td>\n",
       "      <td>0.522737</td>\n",
       "      <td>2.0</td>\n",
       "      <td>0.345870</td>\n",
       "      <td>58934</td>\n",
       "      <td>0.0111</td>\n",
       "      <td>6.0</td>\n",
       "      <td>...</td>\n",
       "      <td>-0.347625</td>\n",
       "      <td>0.143506</td>\n",
       "      <td>-0.866299</td>\n",
       "      <td>2.0</td>\n",
       "      <td>0.137590</td>\n",
       "      <td>-2.136254</td>\n",
       "      <td>0.791216</td>\n",
       "      <td>1.145140</td>\n",
       "      <td>-0.596923</td>\n",
       "      <td>0.007983</td>\n",
       "    </tr>\n",
       "  </tbody>\n",
       "</table>\n",
       "<p>5 rows × 26 columns</p>\n",
       "</div>"
      ],
      "text/plain": [
       "       Ret_MinusTwo  Ret_MinusOne  Feature_2  Feature_3  Feature_4  Feature_5  \\\n",
       "32823     -0.013260      0.000590   0.479581   0.199240  -0.788162        5.0   \n",
       "16298      0.015272     -0.087335   0.261451  -0.128693  -0.048090        7.0   \n",
       "28505     -0.004651     -0.007407   0.132693   0.011800   0.025669        8.0   \n",
       "6689      -0.043868     -0.015366   0.707221  -0.799214  -0.878790        5.0   \n",
       "26893     -0.007558     -0.017871   1.471640   1.834098   0.522737        2.0   \n",
       "\n",
       "       Feature_6  Feature_7  Feature_8  Feature_9  ...  Feature_17  \\\n",
       "32823  -0.758338      86137     0.3650        9.0  ...    0.128854   \n",
       "16298  -0.145155      51411     0.2654       11.0  ...    0.158995   \n",
       "28505  -0.145155      92235     0.2109       14.0  ...   -0.774073   \n",
       "6689   -0.513552       8912     0.0102        5.0  ...    0.776121   \n",
       "26893   0.345870      58934     0.0111        6.0  ...   -0.347625   \n",
       "\n",
       "       Feature_18  Feature_19  Feature_20  Feature_21  Feature_22  Feature_23  \\\n",
       "32823   -0.319879   -0.961432         3.0   -0.728740   -0.381317    0.304771   \n",
       "16298   -0.444783   -0.393301         2.0   -0.660029   -0.118927   -0.164613   \n",
       "28505    0.699686   -1.286713         7.0   -0.286466   -0.206454    0.957931   \n",
       "6689    -0.602150   -0.866299         2.0   -1.290809    0.113874   -0.151860   \n",
       "26893    0.143506   -0.866299         2.0    0.137590   -2.136254    0.791216   \n",
       "\n",
       "       Feature_24  Feature_25  Ret_PlusOne  \n",
       "32823   -0.328039   -0.305417     0.011966  \n",
       "16298   -0.032897   -0.175894    -0.004402  \n",
       "28505   -2.327268   -0.679526    -0.001938  \n",
       "6689     0.686725   -0.052387     0.017789  \n",
       "26893    1.145140   -0.596923     0.007983  \n",
       "\n",
       "[5 rows x 26 columns]"
      ]
     },
     "execution_count": 16,
     "metadata": {},
     "output_type": "execute_result"
    }
   ],
   "source": [
    "train[Ret_PlusOneFeature].head()"
   ]
  },
  {
   "cell_type": "markdown",
   "id": "d2aaa202",
   "metadata": {},
   "source": [
    "### Base model"
   ]
  },
  {
   "cell_type": "code",
   "execution_count": 21,
   "id": "c6d44cfb",
   "metadata": {},
   "outputs": [
    {
     "name": "stdout",
     "output_type": "stream",
     "text": [
      "0.023709969349188023 0.023671122679405524 0.047381092028593544\n"
     ]
    }
   ],
   "source": [
    "from sklearn.linear_model import LinearRegression\n",
    "from sklearn.metrics import mean_squared_error\n",
    "\n",
    "regD1 = LinearRegression().fit(train[feature], train[['Ret_PlusOne']])\n",
    "regD2 = LinearRegression().fit(train[feature], train[['Ret_PlusTwo']])\n",
    "\n",
    "regD1Pred = regD1.predict(validation[feature])\n",
    "regD2Pred = regD2.predict(validation[feature])\n",
    "\n",
    "regD1Error = np.sqrt(mean_squared_error(regD1Pred, validation[['Ret_PlusOne']]))\n",
    "regD2Error = np.sqrt(mean_squared_error(regD2Pred, validation[['Ret_PlusTwo']]))\n",
    "\n",
    "print(regD1Error, regD2Error, regD1Error + regD2Error)"
   ]
  },
  {
   "cell_type": "markdown",
   "id": "f8501cd7",
   "metadata": {},
   "source": [
    "### AutoML predictor for modeling D+1, D+2 daily returns"
   ]
  },
  {
   "cell_type": "code",
   "execution_count": 17,
   "id": "40844a27",
   "metadata": {
    "scrolled": false
   },
   "outputs": [
    {
     "name": "stderr",
     "output_type": "stream",
     "text": [
      "No path specified. Models will be saved in: \"AutogluonModels/ag-20220718_033903/\"\n",
      "Presets specified: ['best_quality']\n",
      "Beginning AutoGluon training ... Time limit = 600s\n",
      "AutoGluon will save models to \"AutogluonModels/ag-20220718_033903/\"\n",
      "AutoGluon Version:  0.5.0\n",
      "Python Version:     3.8.12\n",
      "Operating System:   Linux\n",
      "Train Data Rows:    36000\n",
      "Train Data Columns: 25\n",
      "Label Column: Ret_PlusOne\n",
      "Preprocessing data ...\n",
      "AutoGluon infers your prediction problem is: 'regression' (because dtype of label-column == float and many unique label-values observed).\n",
      "\tLabel info (max, min, mean, stddev): (0.7956016001987842, -0.6276902119251764, -0.00017, 0.02518)\n",
      "\tIf 'regression' is not the correct problem_type, please manually specify the problem_type parameter during predictor init (You may specify problem_type as one of: ['binary', 'multiclass', 'regression'])\n",
      "Using Feature Generators to preprocess the data ...\n",
      "Fitting AutoMLPipelineFeatureGenerator...\n",
      "\tAvailable Memory:                    14967.1 MB\n",
      "\tTrain Data (Original)  Memory Usage: 7.2 MB (0.0% of available memory)\n",
      "\tInferring data type of each feature based on column values. Set feature_metadata_in to manually specify special dtypes of the features.\n",
      "\tStage 1 Generators:\n",
      "\t\tFitting AsTypeFeatureGenerator...\n",
      "\t\t\tNote: Converting 1 features to boolean dtype as they only contain 2 unique values.\n",
      "\tStage 2 Generators:\n",
      "\t\tFitting FillNaFeatureGenerator...\n",
      "\tStage 3 Generators:\n",
      "\t\tFitting IdentityFeatureGenerator...\n",
      "\tStage 4 Generators:\n",
      "\t\tFitting DropUniqueFeatureGenerator...\n",
      "\tTypes of features in original data (raw dtype, special dtypes):\n",
      "\t\t('float', []) : 24 | ['Ret_MinusTwo', 'Ret_MinusOne', 'Feature_2', 'Feature_3', 'Feature_4', ...]\n",
      "\t\t('int', [])   :  1 | ['Feature_7']\n",
      "\tTypes of features in processed data (raw dtype, special dtypes):\n",
      "\t\t('float', [])     : 23 | ['Ret_MinusTwo', 'Ret_MinusOne', 'Feature_2', 'Feature_3', 'Feature_4', ...]\n",
      "\t\t('int', [])       :  1 | ['Feature_7']\n",
      "\t\t('int', ['bool']) :  1 | ['Feature_16']\n",
      "\t0.2s = Fit runtime\n",
      "\t25 features in original data used to generate 25 features in processed data.\n",
      "\tTrain Data (Processed) Memory Usage: 6.95 MB (0.0% of available memory)\n",
      "Data preprocessing and feature engineering runtime = 0.22s ...\n",
      "AutoGluon will gauge predictive performance using evaluation metric: 'root_mean_squared_error'\n",
      "\tThis metric's sign has been flipped to adhere to being higher_is_better. The metric score can be multiplied by -1 to get the metric value.\n",
      "\tTo change this, specify the eval_metric parameter of Predictor()\n",
      "AutoGluon will fit 2 stack levels (L1 to L2) ...\n",
      "Fitting 11 L1 models ...\n",
      "Fitting model: KNeighborsUnif_BAG_L1 ... Training model for up to 399.75s of the 599.77s of remaining time.\n",
      "\t-0.0216\t = Validation score   (-root_mean_squared_error)\n",
      "\t0.04s\t = Training   runtime\n",
      "\t32.89s\t = Validation runtime\n",
      "Fitting model: KNeighborsDist_BAG_L1 ... Training model for up to 365.94s of the 565.97s of remaining time.\n",
      "\t-0.0215\t = Validation score   (-root_mean_squared_error)\n",
      "\t0.05s\t = Training   runtime\n",
      "\t33.05s\t = Validation runtime\n",
      "Fitting model: LightGBMXT_BAG_L1 ... Training model for up to 332.22s of the 532.24s of remaining time.\n",
      "\tFitting 8 child models (S1F1 - S1F8) | Fitting with ParallelLocalFoldFittingStrategy\n",
      "\t-0.0248\t = Validation score   (-root_mean_squared_error)\n",
      "\t22.93s\t = Training   runtime\n",
      "\t1.94s\t = Validation runtime\n",
      "Fitting model: LightGBM_BAG_L1 ... Training model for up to 299.58s of the 499.6s of remaining time.\n",
      "\tFitting 8 child models (S1F1 - S1F8) | Fitting with ParallelLocalFoldFittingStrategy\n",
      "\t-0.0239\t = Validation score   (-root_mean_squared_error)\n",
      "\t19.46s\t = Training   runtime\n",
      "\t1.55s\t = Validation runtime\n",
      "Fitting model: RandomForestMSE_BAG_L1 ... Training model for up to 277.28s of the 477.3s of remaining time.\n",
      "\t-0.0229\t = Validation score   (-root_mean_squared_error)\n",
      "\t145.64s\t = Training   runtime\n",
      "\t2.34s\t = Validation runtime\n",
      "Fitting model: CatBoost_BAG_L1 ... Training model for up to 128.43s of the 328.45s of remaining time.\n",
      "\tFitting 8 child models (S1F1 - S1F8) | Fitting with ParallelLocalFoldFittingStrategy\n",
      "\t-0.024\t = Validation score   (-root_mean_squared_error)\n",
      "\t95.15s\t = Training   runtime\n",
      "\t0.16s\t = Validation runtime\n",
      "Fitting model: ExtraTreesMSE_BAG_L1 ... Training model for up to 30.82s of the 230.85s of remaining time.\n",
      "\t-0.0244\t = Validation score   (-root_mean_squared_error)\n",
      "\t19.73s\t = Training   runtime\n",
      "\t2.31s\t = Validation runtime\n",
      "Fitting model: NeuralNetFastAI_BAG_L1 ... Training model for up to 7.88s of the 207.9s of remaining time.\n",
      "\tFitting 8 child models (S1F1 - S1F8) | Fitting with ParallelLocalFoldFittingStrategy\n",
      "\tTime limit exceeded... Skipping NeuralNetFastAI_BAG_L1.\n",
      "Completed 1/20 k-fold bagging repeats ...\n",
      "Fitting model: WeightedEnsemble_L2 ... Training model for up to 360.0s of the 93.99s of remaining time.\n",
      "\t-0.0211\t = Validation score   (-root_mean_squared_error)\n",
      "\t0.57s\t = Training   runtime\n",
      "\t0.0s\t = Validation runtime\n",
      "Fitting 9 L2 models ...\n",
      "Fitting model: LightGBMXT_BAG_L2 ... Training model for up to 93.41s of the 93.4s of remaining time.\n",
      "\tFitting 8 child models (S1F1 - S1F8) | Fitting with ParallelLocalFoldFittingStrategy\n",
      "\t-0.0211\t = Validation score   (-root_mean_squared_error)\n",
      "\t11.04s\t = Training   runtime\n",
      "\t0.36s\t = Validation runtime\n",
      "Fitting model: LightGBM_BAG_L2 ... Training model for up to 76.86s of the 76.85s of remaining time.\n",
      "\tFitting 8 child models (S1F1 - S1F8) | Fitting with ParallelLocalFoldFittingStrategy\n",
      "\t-0.021\t = Validation score   (-root_mean_squared_error)\n",
      "\t10.7s\t = Training   runtime\n",
      "\t0.22s\t = Validation runtime\n",
      "Fitting model: RandomForestMSE_BAG_L2 ... Training model for up to 63.35s of the 63.34s of remaining time.\n",
      "\t-0.0211\t = Validation score   (-root_mean_squared_error)\n",
      "\t164.82s\t = Training   runtime\n",
      "\t2.56s\t = Validation runtime\n",
      "Completed 1/20 k-fold bagging repeats ...\n",
      "Fitting model: WeightedEnsemble_L3 ... Training model for up to 360.0s of the -107.47s of remaining time.\n",
      "\t-0.0209\t = Validation score   (-root_mean_squared_error)\n",
      "\t0.64s\t = Training   runtime\n",
      "\t0.0s\t = Validation runtime\n",
      "AutoGluon training complete, total runtime = 708.14s ... Best model: \"WeightedEnsemble_L3\"\n",
      "TabularPredictor saved. To load, use: predictor = TabularPredictor.load(\"AutogluonModels/ag-20220718_033903/\")\n"
     ]
    }
   ],
   "source": [
    "predictor_D1 = TabularPredictor(label=\"Ret_PlusOne\",\n",
    "                                eval_metric=\"root_mean_squared_error\"\n",
    "                               ).fit(\n",
    "    train_data=train[Ret_PlusOneFeature], \n",
    "    time_limit=600, \n",
    "    presets=\"best_quality\")"
   ]
  },
  {
   "cell_type": "code",
   "execution_count": 23,
   "id": "d044adc5",
   "metadata": {},
   "outputs": [
    {
     "data": {
      "text/plain": [
       "0.018975024779882443"
      ]
     },
     "execution_count": 23,
     "metadata": {},
     "output_type": "execute_result"
    }
   ],
   "source": [
    "predictionD1 = predictor_D1.predict(validation[feature])\n",
    "D1Error = np.sqrt(mean_squared_error(validation[\"Ret_PlusOne\"], predictionD1))\n",
    "D1Error"
   ]
  },
  {
   "cell_type": "code",
   "execution_count": 36,
   "id": "d2aba6b2",
   "metadata": {
    "scrolled": false
   },
   "outputs": [
    {
     "name": "stderr",
     "output_type": "stream",
     "text": [
      "No path specified. Models will be saved in: \"AutogluonModels/ag-20220718_043024/\"\n",
      "Presets specified: ['best_quality']\n",
      "Beginning AutoGluon training ... Time limit = 1200s\n",
      "AutoGluon will save models to \"AutogluonModels/ag-20220718_043024/\"\n",
      "AutoGluon Version:  0.5.0\n",
      "Python Version:     3.8.12\n",
      "Operating System:   Linux\n",
      "Train Data Rows:    36000\n",
      "Train Data Columns: 25\n",
      "Label Column: Ret_PlusOne\n",
      "Preprocessing data ...\n",
      "AutoGluon infers your prediction problem is: 'regression' (because dtype of label-column == float and many unique label-values observed).\n",
      "\tLabel info (max, min, mean, stddev): (0.7956016001987842, -0.6276902119251764, -0.00017, 0.02518)\n",
      "\tIf 'regression' is not the correct problem_type, please manually specify the problem_type parameter during predictor init (You may specify problem_type as one of: ['binary', 'multiclass', 'regression'])\n",
      "Using Feature Generators to preprocess the data ...\n",
      "Fitting AutoMLPipelineFeatureGenerator...\n",
      "\tAvailable Memory:                    13823.07 MB\n",
      "\tTrain Data (Original)  Memory Usage: 7.2 MB (0.1% of available memory)\n",
      "\tInferring data type of each feature based on column values. Set feature_metadata_in to manually specify special dtypes of the features.\n",
      "\tStage 1 Generators:\n",
      "\t\tFitting AsTypeFeatureGenerator...\n",
      "\t\t\tNote: Converting 1 features to boolean dtype as they only contain 2 unique values.\n",
      "\tStage 2 Generators:\n",
      "\t\tFitting FillNaFeatureGenerator...\n",
      "\tStage 3 Generators:\n",
      "\t\tFitting IdentityFeatureGenerator...\n",
      "\tStage 4 Generators:\n",
      "\t\tFitting DropUniqueFeatureGenerator...\n",
      "\tTypes of features in original data (raw dtype, special dtypes):\n",
      "\t\t('float', []) : 24 | ['Ret_MinusTwo', 'Ret_MinusOne', 'Feature_2', 'Feature_3', 'Feature_4', ...]\n",
      "\t\t('int', [])   :  1 | ['Feature_7']\n",
      "\tTypes of features in processed data (raw dtype, special dtypes):\n",
      "\t\t('float', [])     : 23 | ['Ret_MinusTwo', 'Ret_MinusOne', 'Feature_2', 'Feature_3', 'Feature_4', ...]\n",
      "\t\t('int', [])       :  1 | ['Feature_7']\n",
      "\t\t('int', ['bool']) :  1 | ['Feature_16']\n",
      "\t0.2s = Fit runtime\n",
      "\t25 features in original data used to generate 25 features in processed data.\n",
      "\tTrain Data (Processed) Memory Usage: 6.95 MB (0.1% of available memory)\n",
      "Data preprocessing and feature engineering runtime = 0.27s ...\n",
      "AutoGluon will gauge predictive performance using evaluation metric: 'root_mean_squared_error'\n",
      "\tThis metric's sign has been flipped to adhere to being higher_is_better. The metric score can be multiplied by -1 to get the metric value.\n",
      "\tTo change this, specify the eval_metric parameter of Predictor()\n",
      "AutoGluon will fit 2 stack levels (L1 to L2) ...\n",
      "Fitting 11 L1 models ...\n",
      "Fitting model: KNeighborsUnif_BAG_L1 ... Training model for up to 799.61s of the 1199.72s of remaining time.\n",
      "\t-0.0216\t = Validation score   (-root_mean_squared_error)\n",
      "\t0.05s\t = Training   runtime\n",
      "\t32.85s\t = Validation runtime\n",
      "Fitting model: KNeighborsDist_BAG_L1 ... Training model for up to 766.06s of the 1166.16s of remaining time.\n",
      "\t-0.0215\t = Validation score   (-root_mean_squared_error)\n",
      "\t0.04s\t = Training   runtime\n",
      "\t33.44s\t = Validation runtime\n",
      "Fitting model: LightGBMXT_BAG_L1 ... Training model for up to 732.02s of the 1132.13s of remaining time.\n",
      "\tFitting 8 child models (S1F1 - S1F8) | Fitting with ParallelLocalFoldFittingStrategy\n",
      "\t-0.0248\t = Validation score   (-root_mean_squared_error)\n",
      "\t21.6s\t = Training   runtime\n",
      "\t2.1s\t = Validation runtime\n",
      "Fitting model: LightGBM_BAG_L1 ... Training model for up to 706.64s of the 1106.75s of remaining time.\n",
      "\tFitting 8 child models (S1F1 - S1F8) | Fitting with ParallelLocalFoldFittingStrategy\n",
      "\t-0.0239\t = Validation score   (-root_mean_squared_error)\n",
      "\t21.01s\t = Training   runtime\n",
      "\t1.64s\t = Validation runtime\n",
      "Fitting model: RandomForestMSE_BAG_L1 ... Training model for up to 682.7s of the 1082.81s of remaining time.\n",
      "\t-0.0229\t = Validation score   (-root_mean_squared_error)\n",
      "\t146.13s\t = Training   runtime\n",
      "\t2.41s\t = Validation runtime\n",
      "Fitting model: CatBoost_BAG_L1 ... Training model for up to 533.28s of the 933.39s of remaining time.\n",
      "\tFitting 8 child models (S1F1 - S1F8) | Fitting with ParallelLocalFoldFittingStrategy\n",
      "\t-0.024\t = Validation score   (-root_mean_squared_error)\n",
      "\t110.18s\t = Training   runtime\n",
      "\t0.16s\t = Validation runtime\n",
      "Fitting model: ExtraTreesMSE_BAG_L1 ... Training model for up to 420.61s of the 820.71s of remaining time.\n",
      "\t-0.0244\t = Validation score   (-root_mean_squared_error)\n",
      "\t20.46s\t = Training   runtime\n",
      "\t2.29s\t = Validation runtime\n",
      "Fitting model: NeuralNetFastAI_BAG_L1 ... Training model for up to 396.94s of the 797.05s of remaining time.\n",
      "\tFitting 8 child models (S1F1 - S1F8) | Fitting with ParallelLocalFoldFittingStrategy\n",
      "\t-0.025\t = Validation score   (-root_mean_squared_error)\n",
      "\t109.0s\t = Training   runtime\n",
      "\t0.79s\t = Validation runtime\n",
      "Fitting model: XGBoost_BAG_L1 ... Training model for up to 285.31s of the 685.41s of remaining time.\n",
      "\tFitting 8 child models (S1F1 - S1F8) | Fitting with ParallelLocalFoldFittingStrategy\n",
      "\t-0.024\t = Validation score   (-root_mean_squared_error)\n",
      "\t22.35s\t = Training   runtime\n",
      "\t0.38s\t = Validation runtime\n",
      "Fitting model: NeuralNetTorch_BAG_L1 ... Training model for up to 260.21s of the 660.31s of remaining time.\n",
      "\tFitting 8 child models (S1F1 - S1F8) | Fitting with ParallelLocalFoldFittingStrategy\n",
      "\t-0.0252\t = Validation score   (-root_mean_squared_error)\n",
      "\t111.63s\t = Training   runtime\n",
      "\t0.63s\t = Validation runtime\n",
      "Fitting model: LightGBMLarge_BAG_L1 ... Training model for up to 146.03s of the 546.14s of remaining time.\n",
      "\tFitting 8 child models (S1F1 - S1F8) | Fitting with ParallelLocalFoldFittingStrategy\n",
      "\t-0.0236\t = Validation score   (-root_mean_squared_error)\n",
      "\t31.58s\t = Training   runtime\n",
      "\t1.9s\t = Validation runtime\n",
      "Completed 1/20 k-fold bagging repeats ...\n",
      "Fitting model: WeightedEnsemble_L2 ... Training model for up to 360.0s of the 511.55s of remaining time.\n",
      "\t-0.0211\t = Validation score   (-root_mean_squared_error)\n",
      "\t0.89s\t = Training   runtime\n",
      "\t0.0s\t = Validation runtime\n",
      "Fitting 9 L2 models ...\n",
      "Fitting model: LightGBMXT_BAG_L2 ... Training model for up to 510.65s of the 510.63s of remaining time.\n",
      "\tFitting 8 child models (S1F1 - S1F8) | Fitting with ParallelLocalFoldFittingStrategy\n",
      "\t-0.021\t = Validation score   (-root_mean_squared_error)\n",
      "\t11.04s\t = Training   runtime\n",
      "\t0.29s\t = Validation runtime\n",
      "Fitting model: LightGBM_BAG_L2 ... Training model for up to 497.06s of the 497.05s of remaining time.\n",
      "\tFitting 8 child models (S1F1 - S1F8) | Fitting with ParallelLocalFoldFittingStrategy\n",
      "\t-0.0209\t = Validation score   (-root_mean_squared_error)\n",
      "\t12.37s\t = Training   runtime\n",
      "\t0.26s\t = Validation runtime\n",
      "Fitting model: RandomForestMSE_BAG_L2 ... Training model for up to 481.8s of the 481.78s of remaining time.\n",
      "\t-0.021\t = Validation score   (-root_mean_squared_error)\n",
      "\t197.74s\t = Training   runtime\n",
      "\t2.69s\t = Validation runtime\n",
      "Fitting model: CatBoost_BAG_L2 ... Training model for up to 280.48s of the 280.46s of remaining time.\n",
      "\tFitting 8 child models (S1F1 - S1F8) | Fitting with ParallelLocalFoldFittingStrategy\n",
      "E0718 04:45:44.581435449   28531 chttp2_transport.cc:1103]   Received a GOAWAY with error code ENHANCE_YOUR_CALM and debug data equal to \"too_many_pings\"\n",
      "\t-0.0209\t = Validation score   (-root_mean_squared_error)\n",
      "\t24.03s\t = Training   runtime\n",
      "\t0.14s\t = Validation runtime\n",
      "Fitting model: ExtraTreesMSE_BAG_L2 ... Training model for up to 252.91s of the 252.89s of remaining time.\n",
      "\t-0.021\t = Validation score   (-root_mean_squared_error)\n",
      "\t27.73s\t = Training   runtime\n",
      "\t2.62s\t = Validation runtime\n",
      "Fitting model: NeuralNetFastAI_BAG_L2 ... Training model for up to 221.61s of the 221.59s of remaining time.\n",
      "\tFitting 8 child models (S1F1 - S1F8) | Fitting with ParallelLocalFoldFittingStrategy\n",
      "\t-0.0209\t = Validation score   (-root_mean_squared_error)\n",
      "\t112.14s\t = Training   runtime\n",
      "\t0.86s\t = Validation runtime\n",
      "Fitting model: XGBoost_BAG_L2 ... Training model for up to 106.89s of the 106.87s of remaining time.\n",
      "\tFitting 8 child models (S1F1 - S1F8) | Fitting with ParallelLocalFoldFittingStrategy\n",
      "\t-0.0211\t = Validation score   (-root_mean_squared_error)\n",
      "\t19.12s\t = Training   runtime\n",
      "\t0.3s\t = Validation runtime\n",
      "Fitting model: NeuralNetTorch_BAG_L2 ... Training model for up to 84.67s of the 84.66s of remaining time.\n",
      "\tFitting 8 child models (S1F1 - S1F8) | Fitting with ParallelLocalFoldFittingStrategy\n",
      "\t-0.0209\t = Validation score   (-root_mean_squared_error)\n",
      "\t72.72s\t = Training   runtime\n",
      "\t0.83s\t = Validation runtime\n",
      "Fitting model: LightGBMLarge_BAG_L2 ... Training model for up to 9.28s of the 9.26s of remaining time.\n",
      "\tFitting 8 child models (S1F1 - S1F8) | Fitting with ParallelLocalFoldFittingStrategy\n",
      "\t-0.021\t = Validation score   (-root_mean_squared_error)\n",
      "\t13.81s\t = Training   runtime\n",
      "\t0.41s\t = Validation runtime\n",
      "Completed 1/20 k-fold bagging repeats ...\n",
      "Fitting model: WeightedEnsemble_L3 ... Training model for up to 360.0s of the -7.62s of remaining time.\n",
      "\t-0.0207\t = Validation score   (-root_mean_squared_error)\n",
      "\t0.77s\t = Training   runtime\n",
      "\t0.0s\t = Validation runtime\n",
      "AutoGluon training complete, total runtime = 1208.43s ... Best model: \"WeightedEnsemble_L3\"\n",
      "TabularPredictor saved. To load, use: predictor = TabularPredictor.load(\"AutogluonModels/ag-20220718_043024/\")\n"
     ]
    },
    {
     "data": {
      "text/plain": [
       "0.01890028444576988"
      ]
     },
     "execution_count": 36,
     "metadata": {},
     "output_type": "execute_result"
    }
   ],
   "source": [
    "predictor_D112 = TabularPredictor(label=\"Ret_PlusOne\",\n",
    "                                eval_metric=\"root_mean_squared_error\"\n",
    "                               ).fit(\n",
    "    train_data=train[Ret_PlusOneFeature], \n",
    "    time_limit=1200, \n",
    "    presets=\"best_quality\")\n",
    "predictionD112 = predictor_D112.predict(validation[feature])\n",
    "D1Error12 = np.sqrt(mean_squared_error(validation[\"Ret_PlusOne\"], predictionD112))\n",
    "D1Error12"
   ]
  },
  {
   "cell_type": "code",
   "execution_count": 22,
   "id": "e7e22fa5",
   "metadata": {
    "scrolled": false
   },
   "outputs": [
    {
     "name": "stderr",
     "output_type": "stream",
     "text": [
      "No path specified. Models will be saved in: \"AutogluonModels/ag-20220718_035349/\"\n",
      "Presets specified: ['best_quality']\n",
      "Beginning AutoGluon training ... Time limit = 600s\n",
      "AutoGluon will save models to \"AutogluonModels/ag-20220718_035349/\"\n",
      "AutoGluon Version:  0.5.0\n",
      "Python Version:     3.8.12\n",
      "Operating System:   Linux\n",
      "Train Data Rows:    36000\n",
      "Train Data Columns: 25\n",
      "Label Column: Ret_PlusTwo\n",
      "Preprocessing data ...\n",
      "AutoGluon infers your prediction problem is: 'regression' (because dtype of label-column == float and many unique label-values observed).\n",
      "\tLabel info (max, min, mean, stddev): (0.3030381828413649, -0.4507788931757343, 4e-05, 0.02421)\n",
      "\tIf 'regression' is not the correct problem_type, please manually specify the problem_type parameter during predictor init (You may specify problem_type as one of: ['binary', 'multiclass', 'regression'])\n",
      "Using Feature Generators to preprocess the data ...\n",
      "Fitting AutoMLPipelineFeatureGenerator...\n",
      "\tAvailable Memory:                    14177.04 MB\n",
      "\tTrain Data (Original)  Memory Usage: 7.2 MB (0.1% of available memory)\n",
      "\tInferring data type of each feature based on column values. Set feature_metadata_in to manually specify special dtypes of the features.\n",
      "\tStage 1 Generators:\n",
      "\t\tFitting AsTypeFeatureGenerator...\n",
      "\t\t\tNote: Converting 1 features to boolean dtype as they only contain 2 unique values.\n",
      "\tStage 2 Generators:\n",
      "\t\tFitting FillNaFeatureGenerator...\n",
      "\tStage 3 Generators:\n",
      "\t\tFitting IdentityFeatureGenerator...\n",
      "\tStage 4 Generators:\n",
      "\t\tFitting DropUniqueFeatureGenerator...\n",
      "\tTypes of features in original data (raw dtype, special dtypes):\n",
      "\t\t('float', []) : 24 | ['Ret_MinusTwo', 'Ret_MinusOne', 'Feature_2', 'Feature_3', 'Feature_4', ...]\n",
      "\t\t('int', [])   :  1 | ['Feature_7']\n",
      "\tTypes of features in processed data (raw dtype, special dtypes):\n",
      "\t\t('float', [])     : 23 | ['Ret_MinusTwo', 'Ret_MinusOne', 'Feature_2', 'Feature_3', 'Feature_4', ...]\n",
      "\t\t('int', [])       :  1 | ['Feature_7']\n",
      "\t\t('int', ['bool']) :  1 | ['Feature_16']\n",
      "\t0.4s = Fit runtime\n",
      "\t25 features in original data used to generate 25 features in processed data.\n",
      "\tTrain Data (Processed) Memory Usage: 6.95 MB (0.0% of available memory)\n",
      "Data preprocessing and feature engineering runtime = 0.54s ...\n",
      "AutoGluon will gauge predictive performance using evaluation metric: 'root_mean_squared_error'\n",
      "\tThis metric's sign has been flipped to adhere to being higher_is_better. The metric score can be multiplied by -1 to get the metric value.\n",
      "\tTo change this, specify the eval_metric parameter of Predictor()\n",
      "AutoGluon will fit 2 stack levels (L1 to L2) ...\n",
      "Fitting 11 L1 models ...\n",
      "Fitting model: KNeighborsUnif_BAG_L1 ... Training model for up to 399.54s of the 599.45s of remaining time.\n",
      "\t-0.0201\t = Validation score   (-root_mean_squared_error)\n",
      "\t0.04s\t = Training   runtime\n",
      "\t33.25s\t = Validation runtime\n",
      "Fitting model: KNeighborsDist_BAG_L1 ... Training model for up to 365.63s of the 565.55s of remaining time.\n",
      "\t-0.02\t = Validation score   (-root_mean_squared_error)\n",
      "\t0.04s\t = Training   runtime\n",
      "\t33.28s\t = Validation runtime\n",
      "Fitting model: LightGBMXT_BAG_L1 ... Training model for up to 331.74s of the 531.65s of remaining time.\n",
      "\tFitting 8 child models (S1F1 - S1F8) | Fitting with ParallelLocalFoldFittingStrategy\n",
      "\t-0.0237\t = Validation score   (-root_mean_squared_error)\n",
      "\t19.59s\t = Training   runtime\n",
      "\t1.6s\t = Validation runtime\n",
      "Fitting model: LightGBM_BAG_L1 ... Training model for up to 309.32s of the 509.23s of remaining time.\n",
      "\tFitting 8 child models (S1F1 - S1F8) | Fitting with ParallelLocalFoldFittingStrategy\n",
      "\t-0.0224\t = Validation score   (-root_mean_squared_error)\n",
      "\t20.82s\t = Training   runtime\n",
      "\t1.73s\t = Validation runtime\n",
      "Fitting model: RandomForestMSE_BAG_L1 ... Training model for up to 285.91s of the 485.83s of remaining time.\n",
      "\t-0.0215\t = Validation score   (-root_mean_squared_error)\n",
      "\t165.62s\t = Training   runtime\n",
      "\t2.37s\t = Validation runtime\n",
      "Fitting model: CatBoost_BAG_L1 ... Training model for up to 117.06s of the 316.97s of remaining time.\n",
      "\tFitting 8 child models (S1F1 - S1F8) | Fitting with ParallelLocalFoldFittingStrategy\n",
      "\t-0.0225\t = Validation score   (-root_mean_squared_error)\n",
      "\t96.45s\t = Training   runtime\n",
      "\t0.2s\t = Validation runtime\n",
      "Fitting model: ExtraTreesMSE_BAG_L1 ... Training model for up to 18.09s of the 218.0s of remaining time.\n",
      "\t-0.023\t = Validation score   (-root_mean_squared_error)\n",
      "\t18.79s\t = Training   runtime\n",
      "\t2.3s\t = Validation runtime\n",
      "Completed 1/20 k-fold bagging repeats ...\n",
      "Fitting model: WeightedEnsemble_L2 ... Training model for up to 360.0s of the 196.01s of remaining time.\n",
      "\t-0.0196\t = Validation score   (-root_mean_squared_error)\n",
      "\t0.55s\t = Training   runtime\n",
      "\t0.0s\t = Validation runtime\n",
      "Fitting 9 L2 models ...\n",
      "Fitting model: LightGBMXT_BAG_L2 ... Training model for up to 195.44s of the 195.43s of remaining time.\n",
      "\tFitting 8 child models (S1F1 - S1F8) | Fitting with ParallelLocalFoldFittingStrategy\n",
      "\t-0.0194\t = Validation score   (-root_mean_squared_error)\n",
      "\t11.74s\t = Training   runtime\n",
      "\t0.48s\t = Validation runtime\n",
      "Fitting model: LightGBM_BAG_L2 ... Training model for up to 181.15s of the 181.14s of remaining time.\n",
      "\tFitting 8 child models (S1F1 - S1F8) | Fitting with ParallelLocalFoldFittingStrategy\n",
      "\t-0.0195\t = Validation score   (-root_mean_squared_error)\n",
      "\t10.47s\t = Training   runtime\n",
      "\t0.26s\t = Validation runtime\n",
      "Fitting model: RandomForestMSE_BAG_L2 ... Training model for up to 167.88s of the 167.87s of remaining time.\n",
      "\t-0.0198\t = Validation score   (-root_mean_squared_error)\n",
      "\t167.53s\t = Training   runtime\n",
      "\t2.39s\t = Validation runtime\n",
      "Completed 1/20 k-fold bagging repeats ...\n",
      "Fitting model: WeightedEnsemble_L3 ... Training model for up to 360.0s of the -2.95s of remaining time.\n",
      "\t-0.0194\t = Validation score   (-root_mean_squared_error)\n",
      "\t0.31s\t = Training   runtime\n",
      "\t0.0s\t = Validation runtime\n",
      "AutoGluon training complete, total runtime = 603.29s ... Best model: \"WeightedEnsemble_L3\"\n",
      "TabularPredictor saved. To load, use: predictor = TabularPredictor.load(\"AutogluonModels/ag-20220718_035349/\")\n"
     ]
    },
    {
     "data": {
      "text/plain": [
       "0.019083457064581796"
      ]
     },
     "execution_count": 22,
     "metadata": {},
     "output_type": "execute_result"
    }
   ],
   "source": [
    "predictor_D2 = TabularPredictor(label=\"Ret_PlusTwo\",\n",
    "                                eval_metric=\"root_mean_squared_error\",\n",
    "                                verbosity = 2).fit(\n",
    "    train_data=train[Ret_PlusTwoFeature], \n",
    "    time_limit=600, \n",
    "    presets=\"best_quality\")\n",
    "predictionD2 = predictor_D2.predict(validation[feature])\n",
    "D2Error = np.sqrt(mean_squared_error(validation[\"Ret_PlusTwo\"], predictionD2))\n",
    "D2Error"
   ]
  },
  {
   "cell_type": "markdown",
   "id": "a5747d16",
   "metadata": {},
   "source": [
    "The AutoGluon algorithm automatically chooses the best machine learning model for our predictor, and the validation error (RMSE) of AutoML predictor on D+1 return is 0.0189 and 0.01908 for D+2 return. In total, the RMSE error for D+1 & D+2 return is 0.03798."
   ]
  },
  {
   "cell_type": "markdown",
   "id": "481cd6bd",
   "metadata": {},
   "source": [
    "### Deep Learning predictor for modeling D+1, D+2 daily returns"
   ]
  },
  {
   "cell_type": "code",
   "execution_count": 37,
   "id": "a802d0ae",
   "metadata": {},
   "outputs": [],
   "source": [
    "import torch\n",
    "import torch.nn as nn"
   ]
  },
  {
   "cell_type": "code",
   "execution_count": 38,
   "id": "2e58aa57",
   "metadata": {},
   "outputs": [],
   "source": [
    "x_col = feature\n",
    "y_col = ['Ret_PlusOne','Ret_PlusTwo']"
   ]
  },
  {
   "cell_type": "code",
   "execution_count": 39,
   "id": "a057ed7d",
   "metadata": {},
   "outputs": [],
   "source": [
    "x_train, y_train = train[x_col].values, train[y_col].values\n",
    "x_test, y_test = validation[x_col].values, validation[y_col].values\n",
    "\n",
    "import torch.utils.data as data_utils\n",
    "PyTorchtrain = data_utils.TensorDataset(torch.Tensor(x_train), torch.Tensor(y_train))\n",
    "train_loader = data_utils.DataLoader(PyTorchtrain, batch_size=128, shuffle=False)"
   ]
  },
  {
   "cell_type": "code",
   "execution_count": 50,
   "id": "5a7500ff",
   "metadata": {
    "scrolled": true
   },
   "outputs": [
    {
     "name": "stdout",
     "output_type": "stream",
     "text": [
      "torch.Size([16, 25])\n",
      "torch.Size([16])\n",
      "torch.Size([4, 16])\n",
      "torch.Size([4])\n",
      "torch.Size([2, 4])\n",
      "torch.Size([2])\n"
     ]
    }
   ],
   "source": [
    "Dmodel = nn.Sequential(nn.Linear(25, 16),\n",
    "                      nn.Tanh(),\n",
    "                      nn.Linear(16, 4),\n",
    "                      nn.Tanh(),\n",
    "                      nn.Linear(4, 2))\n",
    "criterion = torch.nn.MSELoss(reduction='sum')\n",
    "optimiser = torch.optim.SGD(Dmodel.parameters(), lr =1e-4)\n",
    "for i in range(len(list(Dmodel.parameters()))):\n",
    "    print(list(Dmodel.parameters())[i].size())"
   ]
  },
  {
   "cell_type": "code",
   "execution_count": 51,
   "id": "e53fde33",
   "metadata": {},
   "outputs": [],
   "source": [
    "#!pip install torchviz"
   ]
  },
  {
   "cell_type": "markdown",
   "id": "87a542a8",
   "metadata": {},
   "source": [
    "Since the magnitude of our target variable is very small (usually returns are smaller than 0.1), I have set tanh() as the activation function, which returns values from -1 to 1. "
   ]
  },
  {
   "cell_type": "code",
   "execution_count": 52,
   "id": "0b400aa0",
   "metadata": {
    "scrolled": true
   },
   "outputs": [
    {
     "name": "stdout",
     "output_type": "stream",
     "text": [
      "Epoch  0 RMSE:  0.043335322\n",
      "Epoch  1 RMSE:  0.034947336\n",
      "Epoch  2 RMSE:  0.034946524\n",
      "Epoch  3 RMSE:  0.034946084\n",
      "Epoch  4 RMSE:  0.034945823\n",
      "Epoch  5 RMSE:  0.03494565\n",
      "Epoch  6 RMSE:  0.034945533\n",
      "Epoch  7 RMSE:  0.034945447\n",
      "Epoch  8 RMSE:  0.034945376\n",
      "Epoch  9 RMSE:  0.03494533\n"
     ]
    }
   ],
   "source": [
    "num_epochs = 10\n",
    "tot = len(train)\n",
    "for t in range(num_epochs):\n",
    "    running_loss = 0\n",
    "    for data, target in train_loader:\n",
    "        pred = Dmodel(data)\n",
    "        loss = criterion(pred, target)\n",
    "        running_loss += loss\n",
    "        #print(pred, target)\n",
    "        optimiser.zero_grad()\n",
    "        loss.backward()\n",
    "        optimiser.step()\n",
    "    print(\"Epoch \", t, \"RMSE: \", np.sqrt((running_loss/tot).detach().numpy()))"
   ]
  },
  {
   "cell_type": "code",
   "execution_count": 42,
   "id": "a51eaf42",
   "metadata": {},
   "outputs": [
    {
     "data": {
      "text/plain": [
       "0.03349158075920706"
      ]
     },
     "execution_count": 42,
     "metadata": {},
     "output_type": "execute_result"
    }
   ],
   "source": [
    "D1D2pred = Dmodel(torch.Tensor(x_test))\n",
    "DError_torch = criterion(D1D2pred, torch.Tensor(y_test))\n",
    "DError = np.sqrt(DError_torch.detach().numpy()/len(validation))\n",
    "DError"
   ]
  },
  {
   "cell_type": "code",
   "execution_count": 43,
   "id": "473c9ff9",
   "metadata": {},
   "outputs": [],
   "source": [
    "lr_lst = [1e-4, 1e-5, 1e-6, 1e-7]\n",
    "RMSE_lst = []\n",
    "for lr in lr_lst:\n",
    "    \n",
    "    Dmodel = nn.Sequential(nn.Linear(25, 16),\n",
    "                          nn.Tanh(),\n",
    "                          nn.Linear(16, 4),\n",
    "                          nn.Tanh(),\n",
    "                          nn.Linear(4, 2))\n",
    "    optimiser = torch.optim.SGD(Dmodel.parameters(), lr = lr)\n",
    "    \n",
    "    curr_RMSE = []\n",
    "    for t in range(num_epochs):\n",
    "        running_loss = 0\n",
    "        for data, target in train_loader:\n",
    "            pred = Dmodel(data)\n",
    "            loss = criterion(pred, target)\n",
    "            running_loss += loss\n",
    "            #print(pred, target)\n",
    "            optimiser.zero_grad()\n",
    "            loss.backward()\n",
    "            optimiser.step()\n",
    "        curr_RMSE.append(np.sqrt((running_loss/tot).detach().numpy()))\n",
    "        \n",
    "    RMSE_lst.append(curr_RMSE)\n",
    "    "
   ]
  },
  {
   "cell_type": "code",
   "execution_count": 53,
   "id": "07d15ce9",
   "metadata": {},
   "outputs": [
    {
     "data": {
      "image/png": "[encoded data removed]",
      "text/plain": [
       "<Figure size 1080x432 with 1 Axes>"
      ]
     },
     "metadata": {
      "needs_background": "light"
     },
     "output_type": "display_data"
    }
   ],
   "source": [
    "T = [\"1e-4\", \"1e-5\", \"1e-6\", \"1e-7\"]\n",
    "plt.figure(figsize=(15,6))\n",
    "for i in range(4):\n",
    "    plt.plot(np.arange(1,11), RMSE_lst[i])\n",
    "plt.legend(T)\n",
    "plt.title(\"Training Loss v.s. Epoch for Different Learning Rates\")\n",
    "plt.savefig(\"lr.png\")"
   ]
  },
  {
   "cell_type": "markdown",
   "id": "9f5757f9",
   "metadata": {},
   "source": [
    "After comparing the validation error (RMSE for D+1 & D+2) for each predictior, the deep learning predictor (even with very simple model structure) has a lower RMSE; therefore, we will choose deep learning model for our daily return predictor."
   ]
  },
  {
   "cell_type": "code",
   "execution_count": 104,
   "id": "04c5c872",
   "metadata": {},
   "outputs": [],
   "source": [
    "dfplot = pd.DataFrame(data={\"D1Error\":[regD1Error,D1Error,np.nan], \n",
    "                            \"D2Error\":[regD2Error,D2Error,np.nan], \n",
    "                            \"D1+D2\":[regD1Error+regD2Error,D1Error+D2Error,DError]})\n",
    "#dfplot[\"model\"] = [\"Linear\", \"AutoML\", \"Deep Learing\"] "
   ]
  },
  {
   "cell_type": "code",
   "execution_count": 105,
   "id": "b4d59973",
   "metadata": {},
   "outputs": [
    {
     "data": {
      "text/html": [
       "<div>\n",
       "<style scoped>\n",
       "    .dataframe tbody tr th:only-of-type {\n",
       "        vertical-align: middle;\n",
       "    }\n",
       "\n",
       "    .dataframe tbody tr th {\n",
       "        vertical-align: top;\n",
       "    }\n",
       "\n",
       "    .dataframe thead th {\n",
       "        text-align: right;\n",
       "    }\n",
       "</style>\n",
       "<table border=\"1\" class=\"dataframe\">\n",
       "  <thead>\n",
       "    <tr style=\"text-align: right;\">\n",
       "      <th></th>\n",
       "      <th>D1Error</th>\n",
       "      <th>D2Error</th>\n",
       "      <th>D1+D2</th>\n",
       "    </tr>\n",
       "  </thead>\n",
       "  <tbody>\n",
       "    <tr>\n",
       "      <th>0</th>\n",
       "      <td>0.02371</td>\n",
       "      <td>0.023671</td>\n",
       "      <td>0.047381</td>\n",
       "    </tr>\n",
       "    <tr>\n",
       "      <th>1</th>\n",
       "      <td>0.01890</td>\n",
       "      <td>0.019083</td>\n",
       "      <td>0.037984</td>\n",
       "    </tr>\n",
       "    <tr>\n",
       "      <th>2</th>\n",
       "      <td>NaN</td>\n",
       "      <td>NaN</td>\n",
       "      <td>0.033492</td>\n",
       "    </tr>\n",
       "  </tbody>\n",
       "</table>\n",
       "</div>"
      ],
      "text/plain": [
       "   D1Error   D2Error     D1+D2\n",
       "0  0.02371  0.023671  0.047381\n",
       "1  0.01890  0.019083  0.037984\n",
       "2      NaN       NaN  0.033492"
      ]
     },
     "execution_count": 105,
     "metadata": {},
     "output_type": "execute_result"
    }
   ],
   "source": [
    "dfplot"
   ]
  },
  {
   "cell_type": "code",
   "execution_count": 109,
   "id": "c90d4117",
   "metadata": {
    "scrolled": true
   },
   "outputs": [
    {
     "data": {
      "text/html": [
       "<div>\n",
       "<style scoped>\n",
       "    .dataframe tbody tr th:only-of-type {\n",
       "        vertical-align: middle;\n",
       "    }\n",
       "\n",
       "    .dataframe tbody tr th {\n",
       "        vertical-align: top;\n",
       "    }\n",
       "\n",
       "    .dataframe thead th {\n",
       "        text-align: right;\n",
       "    }\n",
       "</style>\n",
       "<table border=\"1\" class=\"dataframe\">\n",
       "  <thead>\n",
       "    <tr style=\"text-align: right;\">\n",
       "      <th></th>\n",
       "      <th>level_0</th>\n",
       "      <th>level_1</th>\n",
       "      <th>y</th>\n",
       "      <th>model</th>\n",
       "    </tr>\n",
       "  </thead>\n",
       "  <tbody>\n",
       "    <tr>\n",
       "      <th>0</th>\n",
       "      <td>0</td>\n",
       "      <td>D1Error</td>\n",
       "      <td>0.023710</td>\n",
       "      <td>Linear</td>\n",
       "    </tr>\n",
       "    <tr>\n",
       "      <th>1</th>\n",
       "      <td>0</td>\n",
       "      <td>D2Error</td>\n",
       "      <td>0.023671</td>\n",
       "      <td>Linear</td>\n",
       "    </tr>\n",
       "    <tr>\n",
       "      <th>2</th>\n",
       "      <td>0</td>\n",
       "      <td>D1+D2</td>\n",
       "      <td>0.047381</td>\n",
       "      <td>Linear</td>\n",
       "    </tr>\n",
       "    <tr>\n",
       "      <th>3</th>\n",
       "      <td>1</td>\n",
       "      <td>D1Error</td>\n",
       "      <td>0.018900</td>\n",
       "      <td>AutoML</td>\n",
       "    </tr>\n",
       "    <tr>\n",
       "      <th>4</th>\n",
       "      <td>1</td>\n",
       "      <td>D2Error</td>\n",
       "      <td>0.019083</td>\n",
       "      <td>AutoML</td>\n",
       "    </tr>\n",
       "    <tr>\n",
       "      <th>5</th>\n",
       "      <td>1</td>\n",
       "      <td>D1+D2</td>\n",
       "      <td>0.037984</td>\n",
       "      <td>AutoML</td>\n",
       "    </tr>\n",
       "    <tr>\n",
       "      <th>6</th>\n",
       "      <td>2</td>\n",
       "      <td>D1+D2</td>\n",
       "      <td>0.033492</td>\n",
       "      <td>Deep Learing</td>\n",
       "    </tr>\n",
       "  </tbody>\n",
       "</table>\n",
       "</div>"
      ],
      "text/plain": [
       "   level_0  level_1         y         model\n",
       "0        0  D1Error  0.023710        Linear\n",
       "1        0  D2Error  0.023671        Linear\n",
       "2        0    D1+D2  0.047381        Linear\n",
       "3        1  D1Error  0.018900        AutoML\n",
       "4        1  D2Error  0.019083        AutoML\n",
       "5        1    D1+D2  0.037984        AutoML\n",
       "6        2    D1+D2  0.033492  Deep Learing"
      ]
     },
     "execution_count": 109,
     "metadata": {},
     "output_type": "execute_result"
    }
   ],
   "source": [
    "T = pd.DataFrame(dfplot.stack(),columns=[\"y\"]).reset_index()\n",
    "T[\"model\"] = [\"Linear\", \"Linear\",\"Linear\",\"AutoML\",\"AutoML\",\"AutoML\", \"Deep Learing\"] \n",
    "T"
   ]
  },
  {
   "cell_type": "code",
   "execution_count": 112,
   "id": "42fe6688",
   "metadata": {},
   "outputs": [
    {
     "data": {
      "image/png": "[encoded data removed]",
      "text/plain": [
       "<Figure size 1296x720 with 1 Axes>"
      ]
     },
     "metadata": {
      "needs_background": "light"
     },
     "output_type": "display_data"
    }
   ],
   "source": [
    "plt.figure(figsize=(18,10))\n",
    "sns.barplot(x = \"level_1\", y = \"y\", hue=\"model\",data = T)\n",
    "plt.title(\"Validation Error of Different Models\")\n",
    "plt.savefig(\"loss.png\")"
   ]
  },
  {
   "cell_type": "code",
   "execution_count": 54,
   "id": "7b2bff1d",
   "metadata": {
    "scrolled": true
   },
   "outputs": [
    {
     "data": {
      "text/plain": [
       "(0.023709969349188023, 0.023671122679405524)"
      ]
     },
     "execution_count": 54,
     "metadata": {},
     "output_type": "execute_result"
    }
   ],
   "source": [
    "regD1Error, regD2Error"
   ]
  },
  {
   "cell_type": "code",
   "execution_count": 57,
   "id": "0217c44f",
   "metadata": {},
   "outputs": [
    {
     "data": {
      "text/plain": [
       "(0.01890028444576988, 0.019083457064581796)"
      ]
     },
     "execution_count": 57,
     "metadata": {},
     "output_type": "execute_result"
    }
   ],
   "source": [
    "D1Error, D2Error"
   ]
  },
  {
   "cell_type": "code",
   "execution_count": 58,
   "id": "9503acb2",
   "metadata": {},
   "outputs": [
    {
     "data": {
      "text/plain": [
       "0.03349158075920706"
      ]
     },
     "execution_count": 58,
     "metadata": {},
     "output_type": "execute_result"
    }
   ],
   "source": [
    "DError"
   ]
  },
  {
   "cell_type": "markdown",
   "id": "56d6947a",
   "metadata": {},
   "source": [
    "### Deep Learning predictor for modeling Intraday returns"
   ]
  },
  {
   "cell_type": "code",
   "execution_count": 113,
   "id": "e1eee49b",
   "metadata": {},
   "outputs": [],
   "source": [
    "Intrafeature = feature + ['Ret_{}'.format(i) for i in range(2, 121)]\n",
    "x_col = Intrafeature\n",
    "y_col = ['Ret_{}'.format(i) for i in range(121, 181)]"
   ]
  },
  {
   "cell_type": "code",
   "execution_count": 114,
   "id": "6db4d149",
   "metadata": {},
   "outputs": [],
   "source": [
    "x_train, y_train = train[x_col].values, train[y_col].values\n",
    "x_test, y_test = validation[x_col].values, validation[y_col].values\n",
    "\n",
    "import torch.utils.data as data_utils\n",
    "PyTorchtrain = data_utils.TensorDataset(torch.Tensor(x_train), torch.Tensor(y_train))\n",
    "train_loader = data_utils.DataLoader(PyTorchtrain, batch_size=16, shuffle=False)"
   ]
  },
  {
   "cell_type": "code",
   "execution_count": 115,
   "id": "f620fece",
   "metadata": {},
   "outputs": [
    {
     "name": "stdout",
     "output_type": "stream",
     "text": [
      "torch.Size([256, 144])\n",
      "torch.Size([256])\n",
      "torch.Size([128, 256])\n",
      "torch.Size([128])\n",
      "torch.Size([64, 128])\n",
      "torch.Size([64])\n",
      "torch.Size([60, 64])\n",
      "torch.Size([60])\n"
     ]
    }
   ],
   "source": [
    "IntraModel = nn.Sequential(nn.Linear(144, 256),\n",
    "                           nn.Tanh(),\n",
    "                           nn.Linear(256, 128),\n",
    "                           nn.Tanh(),\n",
    "                           nn.Linear(128, 64),\n",
    "                           nn.Tanh(),\n",
    "                           nn.Linear(64, 60))\n",
    "criterion = torch.nn.MSELoss(reduction='sum')\n",
    "optimiser = torch.optim.SGD(IntraModel.parameters(), lr =1e-5)\n",
    "for i in range(len(list(IntraModel.parameters()))):\n",
    "    print(list(IntraModel.parameters())[i].size())"
   ]
  },
  {
   "cell_type": "code",
   "execution_count": 116,
   "id": "f3374fd4",
   "metadata": {},
   "outputs": [
    {
     "name": "stdout",
     "output_type": "stream",
     "text": [
      "Epoch  0 RMSE:  0.21961772\n",
      "Epoch  1 RMSE:  0.015863879\n",
      "Epoch  2 RMSE:  0.0097923\n",
      "Epoch  3 RMSE:  0.009584641\n",
      "Epoch  4 RMSE:  0.009492496\n",
      "Epoch  5 RMSE:  0.009429829\n",
      "Epoch  6 RMSE:  0.009383951\n",
      "Epoch  7 RMSE:  0.00934874\n",
      "Epoch  8 RMSE:  0.00932076\n",
      "Epoch  9 RMSE:  0.009297931\n",
      "Epoch  10 RMSE:  0.009278908\n",
      "Epoch  11 RMSE:  0.009262772\n",
      "Epoch  12 RMSE:  0.009248907\n",
      "Epoch  13 RMSE:  0.009236849\n",
      "Epoch  14 RMSE:  0.009226245\n",
      "Epoch  15 RMSE:  0.009216843\n",
      "Epoch  16 RMSE:  0.0092084445\n",
      "Epoch  17 RMSE:  0.009200889\n",
      "Epoch  18 RMSE:  0.009194056\n",
      "Epoch  19 RMSE:  0.009187837\n"
     ]
    }
   ],
   "source": [
    "num_epochs = 20\n",
    "tot = len(train)\n",
    "for t in range(num_epochs):\n",
    "    running_loss = 0\n",
    "    for data, target in train_loader:\n",
    "        pred = IntraModel(data)\n",
    "        loss = criterion(pred, target)\n",
    "        running_loss += loss\n",
    "        #print(pred, target)\n",
    "        optimiser.zero_grad()\n",
    "        loss.backward()\n",
    "        optimiser.step()\n",
    "    print(\"Epoch \", t, \"RMSE: \", np.sqrt((running_loss/tot).detach().numpy()))"
   ]
  },
  {
   "cell_type": "code",
   "execution_count": 117,
   "id": "9a302057",
   "metadata": {},
   "outputs": [
    {
     "data": {
      "text/plain": [
       "0.009024204205063783"
      ]
     },
     "execution_count": 117,
     "metadata": {},
     "output_type": "execute_result"
    }
   ],
   "source": [
    "Intrapred = IntraModel(torch.Tensor(x_test))\n",
    "IntraError_torch = criterion(Intrapred, torch.Tensor(y_test))\n",
    "IntraError = np.sqrt(IntraError_torch.detach().numpy()/len(validation))\n",
    "IntraError"
   ]
  },
  {
   "cell_type": "code",
   "execution_count": 119,
   "id": "c629af49",
   "metadata": {},
   "outputs": [
    {
     "data": {
      "text/plain": [
       "0.06727452272024152"
      ]
     },
     "execution_count": 119,
     "metadata": {},
     "output_type": "execute_result"
    }
   ],
   "source": [
    "err = 0\n",
    "for col in y_col:\n",
    "    regIntra = LinearRegression().fit(train[x_col], train[col])\n",
    "    regPred = regIntra.predict(validation[x_col])\n",
    "    regError = np.sqrt(mean_squared_error(regPred, validation[col]))\n",
    "    err += regError\n",
    "err"
   ]
  },
  {
   "cell_type": "markdown",
   "id": "13128513",
   "metadata": {},
   "source": [
    "## Inference"
   ]
  },
  {
   "cell_type": "code",
   "execution_count": 76,
   "id": "2d1c39c9",
   "metadata": {},
   "outputs": [
    {
     "data": {
      "text/html": [
       "<div>\n",
       "<style scoped>\n",
       "    .dataframe tbody tr th:only-of-type {\n",
       "        vertical-align: middle;\n",
       "    }\n",
       "\n",
       "    .dataframe tbody tr th {\n",
       "        vertical-align: top;\n",
       "    }\n",
       "\n",
       "    .dataframe thead th {\n",
       "        text-align: right;\n",
       "    }\n",
       "</style>\n",
       "<table border=\"1\" class=\"dataframe\">\n",
       "  <thead>\n",
       "    <tr style=\"text-align: right;\">\n",
       "      <th></th>\n",
       "      <th>Id</th>\n",
       "      <th>Predicted</th>\n",
       "    </tr>\n",
       "  </thead>\n",
       "  <tbody>\n",
       "    <tr>\n",
       "      <th>0</th>\n",
       "      <td>1_1</td>\n",
       "      <td>0</td>\n",
       "    </tr>\n",
       "    <tr>\n",
       "      <th>1</th>\n",
       "      <td>1_2</td>\n",
       "      <td>0</td>\n",
       "    </tr>\n",
       "    <tr>\n",
       "      <th>2</th>\n",
       "      <td>1_3</td>\n",
       "      <td>0</td>\n",
       "    </tr>\n",
       "  </tbody>\n",
       "</table>\n",
       "</div>"
      ],
      "text/plain": [
       "    Id  Predicted\n",
       "0  1_1          0\n",
       "1  1_2          0\n",
       "2  1_3          0"
      ]
     },
     "execution_count": 76,
     "metadata": {},
     "output_type": "execute_result"
    }
   ],
   "source": [
    "submission = pd.read_csv(\"sample_submission_2.csv\")\n",
    "submission.head(3)"
   ]
  },
  {
   "cell_type": "code",
   "execution_count": 63,
   "id": "789c4407",
   "metadata": {},
   "outputs": [
    {
     "name": "stdout",
     "output_type": "stream",
     "text": [
      "(7440000, 2)\n"
     ]
    }
   ],
   "source": [
    "print(submission.shape)"
   ]
  },
  {
   "cell_type": "code",
   "execution_count": 64,
   "id": "02dc01a4",
   "metadata": {},
   "outputs": [],
   "source": [
    "test = test.fillna(method=\"bfill\").fillna(method=\"ffill\")"
   ]
  },
  {
   "cell_type": "code",
   "execution_count": 66,
   "id": "226c55df",
   "metadata": {},
   "outputs": [],
   "source": [
    "D1D2TestPred_torch = Dmodel(torch.Tensor(test[feature].values))\n",
    "D1D2TestPred = D1D2TestPred_torch.detach().numpy()\n",
    "IntraTestPred_torch = IntraModel(torch.Tensor(test[Intrafeature].values))\n",
    "IntraTestPred = IntraTestPred_torch.detach().numpy()"
   ]
  },
  {
   "cell_type": "code",
   "execution_count": 80,
   "id": "eee4733d",
   "metadata": {},
   "outputs": [
    {
     "data": {
      "text/plain": [
       "array([-2.2962689e-05, -4.2147934e-05,  2.4154782e-05,  2.4098903e-05,\n",
       "        3.7476420e-06,  1.5273690e-06,  4.9471855e-06,  1.8365681e-05,\n",
       "        4.9248338e-06,  9.9828467e-06, -1.0117888e-05, -3.5494566e-05,\n",
       "        7.6182187e-06, -1.5627593e-05,  8.0995262e-05, -2.8013252e-05,\n",
       "        5.6083780e-05,  3.0376017e-05, -4.4248998e-05,  1.2241304e-05,\n",
       "       -1.8127263e-05, -3.6180019e-05, -2.3446977e-05, -3.7096441e-05,\n",
       "       -1.4975667e-06, -1.0341406e-05, -9.7453594e-06,  3.6355108e-05,\n",
       "       -2.0060688e-05, -7.7188015e-06, -1.0743737e-05, -2.4661422e-06,\n",
       "       -5.2360818e-05, -4.1127205e-06, -1.2665987e-05,  2.7552247e-05,\n",
       "       -2.3345463e-05,  1.1894852e-05,  1.0408461e-05,  5.5722892e-05,\n",
       "       -4.6957284e-06, -3.0770898e-06, -4.9896538e-05, -2.0895153e-05,\n",
       "        2.5443733e-05, -6.1117287e-05,  7.4077398e-05, -3.2503158e-07,\n",
       "        3.9115548e-06,  4.6502799e-05, -7.3239207e-06, -4.1581690e-05,\n",
       "        3.2968819e-05, -8.2626939e-06,  7.7016652e-05, -1.8492341e-05,\n",
       "       -1.4364719e-05, -4.0769577e-05, -2.5719404e-05, -8.0049038e-05],\n",
       "      dtype=float32)"
      ]
     },
     "execution_count": 80,
     "metadata": {},
     "output_type": "execute_result"
    }
   ],
   "source": [
    "IntraTestPred[0]"
   ]
  },
  {
   "cell_type": "code",
   "execution_count": 79,
   "id": "8e247cad",
   "metadata": {},
   "outputs": [
    {
     "data": {
      "text/plain": [
       "array([-0.00026682,  0.00017121], dtype=float32)"
      ]
     },
     "execution_count": 79,
     "metadata": {},
     "output_type": "execute_result"
    }
   ],
   "source": [
    "D1D2TestPred[0]"
   ]
  },
  {
   "cell_type": "code",
   "execution_count": 81,
   "id": "d396145c",
   "metadata": {},
   "outputs": [],
   "source": [
    "res = []\n",
    "for i in range(120000):\n",
    "    res += list(IntraTestPred[i])\n",
    "    res += list(D1D2TestPred[i])"
   ]
  },
  {
   "cell_type": "code",
   "execution_count": 83,
   "id": "54235f5d",
   "metadata": {},
   "outputs": [
    {
     "data": {
      "text/html": [
       "<div>\n",
       "<style scoped>\n",
       "    .dataframe tbody tr th:only-of-type {\n",
       "        vertical-align: middle;\n",
       "    }\n",
       "\n",
       "    .dataframe tbody tr th {\n",
       "        vertical-align: top;\n",
       "    }\n",
       "\n",
       "    .dataframe thead th {\n",
       "        text-align: right;\n",
       "    }\n",
       "</style>\n",
       "<table border=\"1\" class=\"dataframe\">\n",
       "  <thead>\n",
       "    <tr style=\"text-align: right;\">\n",
       "      <th></th>\n",
       "      <th>Id</th>\n",
       "      <th>Predicted</th>\n",
       "    </tr>\n",
       "  </thead>\n",
       "  <tbody>\n",
       "    <tr>\n",
       "      <th>0</th>\n",
       "      <td>1_1</td>\n",
       "      <td>-0.000023</td>\n",
       "    </tr>\n",
       "    <tr>\n",
       "      <th>1</th>\n",
       "      <td>1_2</td>\n",
       "      <td>-0.000042</td>\n",
       "    </tr>\n",
       "    <tr>\n",
       "      <th>2</th>\n",
       "      <td>1_3</td>\n",
       "      <td>0.000024</td>\n",
       "    </tr>\n",
       "    <tr>\n",
       "      <th>3</th>\n",
       "      <td>1_4</td>\n",
       "      <td>0.000024</td>\n",
       "    </tr>\n",
       "    <tr>\n",
       "      <th>4</th>\n",
       "      <td>1_5</td>\n",
       "      <td>0.000004</td>\n",
       "    </tr>\n",
       "  </tbody>\n",
       "</table>\n",
       "</div>"
      ],
      "text/plain": [
       "    Id  Predicted\n",
       "0  1_1  -0.000023\n",
       "1  1_2  -0.000042\n",
       "2  1_3   0.000024\n",
       "3  1_4   0.000024\n",
       "4  1_5   0.000004"
      ]
     },
     "execution_count": 83,
     "metadata": {},
     "output_type": "execute_result"
    }
   ],
   "source": [
    "submission[\"Predicted\"] = res\n",
    "submission.head()"
   ]
  },
  {
   "cell_type": "code",
   "execution_count": 84,
   "id": "dd33d2ee",
   "metadata": {},
   "outputs": [],
   "source": [
    "submission.to_csv(\"submission.csv\")"
   ]
  }
 ],
 "metadata": {
  "kernelspec": {
   "display_name": "conda_pytorch_p38",
   "language": "python",
   "name": "conda_pytorch_p38"
  },
  "language_info": {
   "codemirror_mode": {
    "name": "ipython",
    "version": 3
   },
   "file_extension": ".py",
   "mimetype": "text/x-python",
   "name": "python",
   "nbconvert_exporter": "python",
   "pygments_lexer": "ipython3",
   "version": "3.8.12"
  }
 },
 "nbformat": 4,
 "nbformat_minor": 5
}
